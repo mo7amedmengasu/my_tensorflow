{
 "cells": [
  {
   "cell_type": "code",
   "execution_count": 9,
   "id": "e8542114-3201-433b-8a5e-8832d15ef208",
   "metadata": {},
   "outputs": [],
   "source": [
    "import  numpy as np"
   ]
  },
  {
   "cell_type": "code",
   "execution_count": 10,
   "id": "dd545e1a",
   "metadata": {},
   "outputs": [],
   "source": [
    "def Sigmoide(x):\n",
    "    return 1/(1+np.exp(-x))\n",
    "\n",
    "\n",
    "def my_dense(a_in, W, b):\n",
    "    units = W.shape[1]\n",
    "    a_out = np.zeros(units)\n",
    "    for j in range(units):\n",
    "        w = W[:,j]\n",
    "        z = np.dot(w,a_in)+ b[j]\n",
    "        a_out[j] = Sigmoide(z)\n",
    "    return a_out\n",
    "\n",
    "def my_Sequential(x, W1, b1, W2, b2):\n",
    "    a1 = my_dense(x, W1, b1)\n",
    "    a2 = my_dense(a1, W2, b2)\n",
    "    return a2\n",
    "\n",
    "def my_predict(X, W1, b1, W2, b2):\n",
    "    N = X.shape[0]\n",
    "    y = np.zeros((N, 1))  # Initialize y as a 2D array\n",
    "    for i in range(N):\n",
    "        y[i] = my_Sequential(X[i], W1, b1, W2, b2)\n",
    "    return y"
   ]
  },
  {
   "cell_type": "markdown",
   "id": "36561981",
   "metadata": {},
   "source": [
    "Now let's test our functions"
   ]
  },
  {
   "cell_type": "code",
   "execution_count": 11,
   "id": "48664d77",
   "metadata": {},
   "outputs": [],
   "source": [
    "W1_tmp = np.array( [[-8.93,  0.29, 12.9 ], [-0.1,  -7.32, 10.81]] )\n",
    "b1_tmp = np.array( [-9.82, -9.28,  0.96] )\n",
    "W2_tmp = np.array( [[-31.18], [-27.59], [-32.56]] )\n",
    "b2_tmp = np.array( [15.41] )"
   ]
  },
  {
   "cell_type": "code",
   "execution_count": 12,
   "id": "1d53b03b",
   "metadata": {},
   "outputs": [],
   "source": [
    "import tensorflow as tf\n",
    "\n",
    "# Create the normalization layer\n",
    "norm_l = tf.keras.layers.Normalization(axis=-1)\n",
    "\n",
    "# Adapt the normalizer to the given ranges\n",
    "data = np.array([\n",
    "    [284.99, 15.45],\n",
    "    [151.32, 11.51]\n",
    "])\n",
    "norm_l.adapt(data)"
   ]
  },
  {
   "cell_type": "code",
   "execution_count": 13,
   "id": "38b80d93",
   "metadata": {},
   "outputs": [],
   "source": [
    "X_tst = np.array([\n",
    "    [200,13.9],  \n",
    "    [200,17]])   \n",
    "X_tstn = norm_l(X_tst)  # remember to normalize\n",
    "predictions = my_predict(X_tstn, W1_tmp, b1_tmp, W2_tmp, b2_tmp)"
   ]
  },
  {
   "cell_type": "code",
   "execution_count": 14,
   "id": "d74389e6",
   "metadata": {},
   "outputs": [
    {
     "name": "stdout",
     "output_type": "stream",
     "text": [
      "decisions = \n",
      "[[1.]\n",
      " [0.]]\n"
     ]
    }
   ],
   "source": [
    "yhat = np.zeros_like(predictions)\n",
    "for i in range(len(predictions)):\n",
    "    if predictions[i] >= 0.5:\n",
    "        yhat[i] = 1\n",
    "    else:\n",
    "        yhat[i] = 0\n",
    "print(f\"decisions = \\n{yhat}\")"
   ]
  },
  {
   "cell_type": "code",
   "execution_count": 15,
   "id": "e1bc3172",
   "metadata": {},
   "outputs": [
    {
     "name": "stdout",
     "output_type": "stream",
     "text": [
      "decisions = \n",
      "[[1.]\n",
      " [0.]]\n"
     ]
    }
   ],
   "source": [
    "yhat = np.zeros_like(predictions)\n",
    "for i in range(len(predictions)):\n",
    "    if predictions[i] >= 0.5:\n",
    "        yhat[i] = 1 \n",
    "    else:       \n",
    "        yhat[i] = 0\n",
    "print(f\"decisions = \\n{yhat}\")"
   ]
  },
  {
   "cell_type": "code",
   "execution_count": null,
   "id": "529ee381",
   "metadata": {},
   "outputs": [],
   "source": []
  }
 ],
 "metadata": {
  "kernelspec": {
   "display_name": "Python 3",
   "language": "python",
   "name": "python3"
  },
  "language_info": {
   "codemirror_mode": {
    "name": "ipython",
    "version": 3
   },
   "file_extension": ".py",
   "mimetype": "text/x-python",
   "name": "python",
   "nbconvert_exporter": "python",
   "pygments_lexer": "ipython3",
   "version": "3.12.5"
  }
 },
 "nbformat": 4,
 "nbformat_minor": 5
}
